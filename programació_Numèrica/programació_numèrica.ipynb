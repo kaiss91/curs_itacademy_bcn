{
 "cells": [
  {
   "cell_type": "markdown",
   "metadata": {},
   "source": [
    "## Exercici 1\r\n",
    "\r\n",
    "Crea una funció que donat un Array d’una dimensió, et faci un resum estadístic bàsic de les dades. Si detecta que l’array té més d’una dimensió, ha de mostrar un missatge d’error."
   ]
  },
  {
   "cell_type": "code",
   "execution_count": 10,
   "metadata": {},
   "outputs": [],
   "source": [
    "import numpy as np\r\n",
    "def statSummary (np_array):\r\n",
    "    if (len(np_array.shape) == 1):\r\n",
    "        print(f\"\"\"Stats summary from the array:\\n mean: {np.mean(np_array)}\\n median: {np.median(np_array)}\\n standard deviation: {np.std(np_array)}\"\"\")\r\n",
    "    else:\r\n",
    "        raise print(\"The parameter @np_array must be a 1 dimensional array\")"
   ]
  },
  {
   "cell_type": "code",
   "execution_count": 12,
   "metadata": {},
   "outputs": [
    {
     "name": "stdout",
     "output_type": "stream",
     "text": [
      "Stats summary from the array:\n",
      " mean: 11.25\n",
      " median: 4.5\n",
      " standard deviation: 13.790848414800301\n"
     ]
    }
   ],
   "source": [
    "statSummary(np.array([1,4,5,35]))"
   ]
  },
  {
   "cell_type": "markdown",
   "metadata": {},
   "source": [
    "## Exercici 2\r\n",
    "Crea una funció que et generi un quadrat NxN de nombres aleatoris entre el 0 i el 100."
   ]
  },
  {
   "cell_type": "code",
   "execution_count": 3,
   "metadata": {},
   "outputs": [],
   "source": [
    "def randomSquareMatrix(n):\r\n",
    "    return np.random.randint(100,size=(n,n))"
   ]
  },
  {
   "cell_type": "code",
   "execution_count": 4,
   "metadata": {},
   "outputs": [
    {
     "data": {
      "text/plain": [
       "array([[62, 22, 39, 21, 40, 25, 18, 70, 77, 85],\n",
       "       [40, 37, 78, 19, 46, 45, 66,  2, 77, 61],\n",
       "       [51, 36, 65,  3, 95, 71,  3, 29, 35, 51],\n",
       "       [36, 17, 68, 82, 99, 32, 66, 60,  6, 92],\n",
       "       [45, 50, 65, 81, 88, 45, 89, 95,  7, 79],\n",
       "       [28, 43, 59, 68, 54, 23, 96, 69, 72, 77],\n",
       "       [75, 33,  8, 98, 49, 78, 60, 50, 94, 86],\n",
       "       [91, 59, 21, 26, 31, 26, 22,  7, 72, 90],\n",
       "       [16, 68, 16, 18, 79, 94, 21, 71, 67, 44],\n",
       "       [96, 43, 59, 18, 49,  6, 46,  2, 31, 70]])"
      ]
     },
     "execution_count": 4,
     "metadata": {},
     "output_type": "execute_result"
    }
   ],
   "source": [
    "randomSquareMatrix(10)"
   ]
  },
  {
   "cell_type": "markdown",
   "metadata": {},
   "source": [
    "## Exercici 3\r\n",
    "Crea una funció que donada una taula de dues dimensions, et calculi els totals per fila i els totals per columna."
   ]
  },
  {
   "cell_type": "code",
   "execution_count": 5,
   "metadata": {},
   "outputs": [],
   "source": [
    "def sumRowsAndColumns(np_array):\r\n",
    "    rows = []\r\n",
    "    columns = []\r\n",
    "    t = np.transpose(np_array)\r\n",
    "    for i in range(len(np_array)):\r\n",
    "        rows.append(np_array[i].sum())\r\n",
    "    \r\n",
    "    for i in range(len(t)):\r\n",
    "        columns.append(t[i].sum())\r\n",
    "    \r\n",
    "    dict_data = {'rows': rows,\r\n",
    "                'columns': columns\r\n",
    "               }\r\n",
    "\r\n",
    "    return dict_data"
   ]
  },
  {
   "cell_type": "code",
   "execution_count": 6,
   "metadata": {},
   "outputs": [
    {
     "data": {
      "text/plain": [
       "{'rows': [7, 14], 'columns': [4, 7, 10]}"
      ]
     },
     "execution_count": 6,
     "metadata": {},
     "output_type": "execute_result"
    }
   ],
   "source": [
    "a = np.array([(1,2,4), (3,5,6)])\r\n",
    "sumRowsAndColumns(a)"
   ]
  },
  {
   "cell_type": "markdown",
   "metadata": {
    "tags": []
   },
   "source": [
    "## Exercici 4\n",
    "Implementa manualment una funció que calculi el coeficient de correlació. Informa’t-en sobre els seus usos i interpretació."
   ]
  },
  {
   "cell_type": "code",
   "execution_count": 13,
   "metadata": {},
   "outputs": [],
   "source": [
    "def corrCoef(np_array):\n",
    "    return np.corrcoef(np_array)"
   ]
  },
  {
   "cell_type": "code",
   "execution_count": 14,
   "metadata": {},
   "outputs": [
    {
     "data": {
      "text/plain": [
       "array([[1.        , 0.92857143],\n",
       "       [0.92857143, 1.        ]])"
      ]
     },
     "execution_count": 14,
     "metadata": {},
     "output_type": "execute_result"
    }
   ],
   "source": [
    "corrCoef(a)"
   ]
  },
  {
   "cell_type": "code",
   "execution_count": null,
   "metadata": {},
   "outputs": [],
   "source": []
  },
  {
   "cell_type": "code",
   "execution_count": null,
   "metadata": {},
   "outputs": [],
   "source": []
  }
 ],
 "metadata": {
  "interpreter": {
   "hash": "81e752dedd9bb9e84a885670966fe43429107e45c84ff3f9bec5bdfea84a0eaf"
  },
  "kernelspec": {
   "display_name": "Python 3",
   "language": "python",
   "name": "python3"
  },
  "language_info": {
   "codemirror_mode": {
    "name": "ipython",
    "version": 3
   },
   "file_extension": ".py",
   "mimetype": "text/x-python",
   "name": "python",
   "nbconvert_exporter": "python",
   "pygments_lexer": "ipython3",
   "version": "3.8.6"
  }
 },
 "nbformat": 4,
 "nbformat_minor": 4
}

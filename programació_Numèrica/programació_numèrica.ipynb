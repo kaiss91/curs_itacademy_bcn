{
 "cells": [
  {
   "cell_type": "markdown",
   "metadata": {},
   "source": [
    "## Exercici 1\r\n",
    "\r\n",
    "Crea una funció que donat un Array d’una dimensió, et faci un resum estadístic bàsic de les dades. Si detecta que l’array té més d’una dimensió, ha de mostrar un missatge d’error."
   ]
  },
  {
   "cell_type": "code",
   "execution_count": 1,
   "metadata": {},
   "outputs": [],
   "source": [
    "import numpy as np\n",
    "def statSummary (np_array):\n",
    "    \"\"\" Given a 1D array return a stats summery\"\"\"\n",
    "    #check if the array passed in the fuction is a 1D array\n",
    "    if (len(np_array.shape) == 1):\n",
    "        #print the stats summary\n",
    "        print(f\"\"\"Stats summary from the array:\\n mean: {np.mean(np_array)}\\n median: {np.median(np_array)}\\n standard deviation: {np.std(np_array)}\"\"\")\n",
    "    else:\n",
    "        #raise an error if parameter passed in the function is not a 1D array\n",
    "        raise print(\"The parameter @np_array must be a 1 dimensional array\")"
   ]
  },
  {
   "cell_type": "code",
   "execution_count": 2,
   "metadata": {},
   "outputs": [
    {
     "name": "stdout",
     "output_type": "stream",
     "text": [
      "Stats summary from the array:\n",
      " mean: 11.25\n",
      " median: 4.5\n",
      " standard deviation: 13.790848414800301\n"
     ]
    }
   ],
   "source": [
    "statSummary(np.array([1,4,5,35]))"
   ]
  },
  {
   "cell_type": "markdown",
   "metadata": {},
   "source": [
    "## Exercici 2\r\n",
    "Crea una funció que et generi un quadrat NxN de nombres aleatoris entre el 0 i el 100."
   ]
  },
  {
   "cell_type": "code",
   "execution_count": 3,
   "metadata": {},
   "outputs": [],
   "source": [
    "def randomSquareMatrix(n):\n",
    "    return np.random.randint(100,size=(n,n))"
   ]
  },
  {
   "cell_type": "code",
   "execution_count": 4,
   "metadata": {},
   "outputs": [
    {
     "data": {
      "text/plain": [
       "array([[12, 74, 21, 99, 40, 91, 16, 66, 47, 76],\n",
       "       [98, 32, 35, 84, 80, 77,  2, 37, 97, 76],\n",
       "       [88, 30, 43, 56,  3, 20, 87, 82, 63, 90],\n",
       "       [ 3, 54, 72, 96, 42, 36, 69, 21, 44, 16],\n",
       "       [88, 42, 88, 73, 79, 83, 60, 99, 60, 40],\n",
       "       [84, 31, 14, 24, 26, 76, 28, 73, 80, 91],\n",
       "       [67, 47, 71,  2, 73, 53, 75, 30, 75, 15],\n",
       "       [12, 90, 99, 68, 11, 96, 96,  3, 98, 19],\n",
       "       [49, 57, 98, 61, 86, 97, 80, 13, 56, 98],\n",
       "       [52, 98, 77, 97, 85, 66, 45, 96, 62, 39]])"
      ]
     },
     "execution_count": 4,
     "metadata": {},
     "output_type": "execute_result"
    }
   ],
   "source": [
    "randomSquareMatrix(10)"
   ]
  },
  {
   "cell_type": "markdown",
   "metadata": {},
   "source": [
    "## Exercici 3\r\n",
    "Crea una funció que donada una taula de dues dimensions, et calculi els totals per fila i els totals per columna."
   ]
  },
  {
   "cell_type": "code",
   "execution_count": 5,
   "metadata": {},
   "outputs": [],
   "source": [
    "def sumRowsAndColumns(np_array):\n",
    "    # create two empty lists to store the sum for each row/column\n",
    "    rows = []\n",
    "    columns = []\n",
    "    #transpose the array to use columns as rows\n",
    "    t = np.transpose(np_array)\n",
    "    #for each row sum all the elements inside it and store it in the rows/columns list\n",
    "    for i in range(len(np_array)):\n",
    "        rows.append(np_array[i].sum())\n",
    "    #same for the trapnsopse array\n",
    "    for i in range(len(t)):\n",
    "        columns.append(t[i].sum())\n",
    "        \n",
    "    #create a dictionary to store the results both for rows and columns\n",
    "    dict_data = {'rows': rows,\n",
    "                'columns': columns\n",
    "               }\n",
    "\n",
    "    return dict_data"
   ]
  },
  {
   "cell_type": "code",
   "execution_count": 10,
   "metadata": {},
   "outputs": [
    {
     "data": {
      "text/plain": [
       "{'rows': [7, 14, 28], 'columns': [23, 13, 13]}"
      ]
     },
     "execution_count": 10,
     "metadata": {},
     "output_type": "execute_result"
    }
   ],
   "source": [
    "a = np.array([(1,2,4), (3,5,6), (19,6,3)])\r\n",
    "sumRowsAndColumns(a)"
   ]
  },
  {
   "cell_type": "markdown",
   "metadata": {
    "tags": []
   },
   "source": [
    "## Exercici 4\n",
    "Implementa manualment una funció que calculi el coeficient de correlació. Informa’t-en sobre els seus usos i interpretació."
   ]
  },
  {
   "cell_type": "code",
   "execution_count": 11,
   "metadata": {},
   "outputs": [],
   "source": [
    "def corrCoef(np_array):\n",
    "    return np.corrcoef(np_array)"
   ]
  },
  {
   "cell_type": "code",
   "execution_count": 12,
   "metadata": {},
   "outputs": [
    {
     "data": {
      "text/plain": [
       "array([[ 1.        ,  0.92857143, -0.85953966],\n",
       "       [ 0.92857143,  1.        , -0.98782916],\n",
       "       [-0.85953966, -0.98782916,  1.        ]])"
      ]
     },
     "execution_count": 12,
     "metadata": {},
     "output_type": "execute_result"
    }
   ],
   "source": [
    "corrCoef(a)"
   ]
  },
  {
   "cell_type": "code",
   "execution_count": null,
   "metadata": {},
   "outputs": [],
   "source": []
  },
  {
   "cell_type": "code",
   "execution_count": null,
   "metadata": {},
   "outputs": [],
   "source": []
  }
 ],
 "metadata": {
  "interpreter": {
   "hash": "81e752dedd9bb9e84a885670966fe43429107e45c84ff3f9bec5bdfea84a0eaf"
  },
  "kernelspec": {
   "display_name": "Python 3",
   "language": "python",
   "name": "python3"
  },
  "language_info": {
   "codemirror_mode": {
    "name": "ipython",
    "version": 3
   },
   "file_extension": ".py",
   "mimetype": "text/x-python",
   "name": "python",
   "nbconvert_exporter": "python",
   "pygments_lexer": "ipython3",
   "version": "3.8.6"
  }
 },
 "nbformat": 4,
 "nbformat_minor": 4
}
